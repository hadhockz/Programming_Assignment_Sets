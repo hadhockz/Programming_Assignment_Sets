{
 "cells": [
  {
   "cell_type": "code",
   "execution_count": 8,
   "id": "5fd5c475",
   "metadata": {},
   "outputs": [
    {
     "name": "stdout",
     "output_type": "stream",
     "text": [
      "1 2 3 4 5 "
     ]
    }
   ],
   "source": [
    "#1.Write a Python program that prints numbers from 1 to 5.\n",
    "#Expected Output:\n",
    "#1 2 3 4 5\n",
    "for temp_var in range(1,6):\n",
    "    print(temp_var,end=\" \")"
   ]
  },
  {
   "cell_type": "code",
   "execution_count": 14,
   "id": "3c8bc472",
   "metadata": {},
   "outputs": [
    {
     "name": "stdout",
     "output_type": "stream",
     "text": [
      "2 4 6 8 10 "
     ]
    }
   ],
   "source": [
    "#2.Write a Python program to print the first 5 even numbers. Expected Output:\n",
    "#2 4 6 8 10\n",
    "for temp_var in range(2,12,2):\n",
    "    print(temp_var,end=\" \")\n"
   ]
  },
  {
   "cell_type": "code",
   "execution_count": 18,
   "id": "5e7af211",
   "metadata": {},
   "outputs": [
    {
     "name": "stdout",
     "output_type": "stream",
     "text": [
      "Sum of 10 number's : 55\n"
     ]
    }
   ],
   "source": [
    "#3.Write a Python program to print the sum of numbers from 1 to 10. \n",
    "#Expected Output:55\n",
    "#using sum function\n",
    "#1+2+3+4+5+6+7+8+9+10\n",
    "sum_of_10_nos = sum(range(1,11))\n",
    "print(f\"Sum of 10 number's : {sum_of_10_nos}\")"
   ]
  },
  {
   "cell_type": "code",
   "execution_count": 21,
   "id": "ac09aa1a",
   "metadata": {},
   "outputs": [
    {
     "name": "stdout",
     "output_type": "stream",
     "text": [
      "Enter a non-negative integer: 4\n",
      "The factorial of 4! is 24\n"
     ]
    }
   ],
   "source": [
    "#4.Write a Python function to find the factorial of 5. Expected Output:\n",
    "#120\n",
    "#5! factorial, took guidance from google\n",
    "import math\n",
    "\n",
    "no = int(input(\"Enter a non-negative integer: \"))\n",
    "\n",
    "if no < 0:\n",
    "    print(\"Factorial does not exist for negative numbers.\")\n",
    "elif no == 0:\n",
    "    print(\"The factorial of 0 is 1.\")\n",
    "else:\n",
    "    print(f\"The factorial of {no}! is {math.factorial(no)}\")"
   ]
  },
  {
   "cell_type": "code",
   "execution_count": 24,
   "id": "8ab9fc8a",
   "metadata": {},
   "outputs": [
    {
     "name": "stdout",
     "output_type": "stream",
     "text": [
      "Enter a number: 7\n",
      "7 is a prime number.\n"
     ]
    }
   ],
   "source": [
    "#5.Write a Python program to check if a number is prime. Expected Output (for input 7):\n",
    "#7 is a prime number\n",
    "#number which is divisible 1 and byitself is prime.\n",
    "#2 is prime as its only divisors are 1 and 2.\n",
    "#3 is prime because it can only be divided by 1 and 3.\n",
    "#5 is prime because it is divisible only by 1 and 5.\n",
    "#11 is prime because it is divisible by 1 and 11\n",
    "#took guidance from google.\n",
    "def prime_number(num):\n",
    "    if num <= 1:\n",
    "        return False\n",
    "\n",
    "    flag = True  # Assume the number is prime initially\n",
    "\n",
    "    # Check divisibility from 2 to sqrt(n)\n",
    "    for i in range(2, int(num**0.5) + 1):\n",
    "        if num % i == 0:\n",
    "            flag = False  # Set flag to False if divisible\n",
    "            break  # Exit loop once a divisor is found\n",
    "    \n",
    "    return flag  # Return True if no divisors found, False otherwise\n",
    "\n",
    "num = int(input(\"Enter a number: \"))\n",
    "if prime_number(num):\n",
    "    print(f\"{num} is a prime number.\")\n",
    "else:\n",
    "    print(f\"{num} is not a prime number.\")\n"
   ]
  },
  {
   "cell_type": "code",
   "execution_count": null,
   "id": "1d0e343b",
   "metadata": {},
   "outputs": [],
   "source": []
  }
 ],
 "metadata": {
  "kernelspec": {
   "display_name": "Python 3 (ipykernel)",
   "language": "python",
   "name": "python3"
  },
  "language_info": {
   "codemirror_mode": {
    "name": "ipython",
    "version": 3
   },
   "file_extension": ".py",
   "mimetype": "text/x-python",
   "name": "python",
   "nbconvert_exporter": "python",
   "pygments_lexer": "ipython3",
   "version": "3.9.12"
  }
 },
 "nbformat": 4,
 "nbformat_minor": 5
}
