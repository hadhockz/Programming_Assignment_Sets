{
 "cells": [
  {
   "cell_type": "code",
   "execution_count": 23,
   "id": "2c7c1d4a",
   "metadata": {},
   "outputs": [
    {
     "name": "stdout",
     "output_type": "stream",
     "text": [
      "Enter your age:19\n",
      "Eligible to vote\n"
     ]
    },
    {
     "data": {
      "text/plain": [
       "'eligible'"
      ]
     },
     "execution_count": 23,
     "metadata": {},
     "output_type": "execute_result"
    }
   ],
   "source": [
    "#scenario based coding \n",
    "#No:1 - right age to vote coding\n",
    "def voting_age():\n",
    "    age = int(input(\"Enter your age:\"))\n",
    "    if(age<18):\n",
    "        print(\"Not eligible to vote\")\n",
    "        alert = \"not eligible\"\n",
    "    else:\n",
    "        print(\"Eligible to vote\")\n",
    "        alert = \"eligible\"\n",
    "    return alert\n",
    "voting_age()"
   ]
  },
  {
   "cell_type": "code",
   "execution_count": 24,
   "id": "1908e9f8",
   "metadata": {},
   "outputs": [
    {
     "name": "stdout",
     "output_type": "stream",
     "text": [
      "Enter your age:19\n",
      "Eligible to vote\n"
     ]
    }
   ],
   "source": [
    "vote = voting_age()"
   ]
  },
  {
   "cell_type": "code",
   "execution_count": 25,
   "id": "f57a6410",
   "metadata": {},
   "outputs": [
    {
     "data": {
      "text/plain": [
       "'eligible'"
      ]
     },
     "execution_count": 25,
     "metadata": {},
     "output_type": "execute_result"
    }
   ],
   "source": [
    "vote"
   ]
  },
  {
   "cell_type": "code",
   "execution_count": 27,
   "id": "cef6f297",
   "metadata": {},
   "outputs": [
    {
     "name": "stdout",
     "output_type": "stream",
     "text": [
      "Enter your age:19\n",
      "Eligible to vote\n"
     ]
    }
   ],
   "source": [
    "vote = voting_age()"
   ]
  },
  {
   "cell_type": "code",
   "execution_count": 29,
   "id": "f42ec2bf",
   "metadata": {},
   "outputs": [
    {
     "name": "stdout",
     "output_type": "stream",
     "text": [
      "right age\n"
     ]
    }
   ],
   "source": [
    "if(vote == \"not eligible\"):\n",
    "    print(\"age less than 18\")\n",
    "else:\n",
    "    print(\"right age\")"
   ]
  },
  {
   "cell_type": "code",
   "execution_count": 32,
   "id": "148c129c",
   "metadata": {},
   "outputs": [
    {
     "name": "stdout",
     "output_type": "stream",
     "text": [
      "The large number in the list is :  250\n"
     ]
    }
   ],
   "source": [
    "#NO:2 - displaying the large number from the list\n",
    "lst_of_numbers = [55,35,95,125,220,180,250,40]\n",
    "large_number = lst_of_numbers[0]\n",
    "\n",
    "for num in lst_of_numbers:\n",
    "    if num > large_number:\n",
    "        large_number = num\n",
    "        \n",
    "print(f\"The large number in the list is :  {large_number}\")\n",
    "#f-string -  known as formatted string literals used to embed expressions \n",
    "#along with variables and function calls inside string literal(means string within double quotes)."
   ]
  },
  {
   "cell_type": "markdown",
   "id": "78c02d80",
   "metadata": {},
   "source": [
    "#manual calculation\n",
    "1.num > lst_of_numbers\n",
    "2.large_number = num\n",
    "\n",
    "55 > 0 - initial number is initialized above, also if not initialized list always starts from index 0.\n",
    "55\n",
    "\n",
    "35>55\n",
    "55\n",
    "\n",
    "95>55\n",
    "95\n",
    "\n",
    "125>95\n",
    "125\n",
    "\n",
    "220>125\n",
    "220\n",
    "\n",
    "180>220\n",
    "220\n",
    "\n",
    "250>220\n",
    "250\n",
    "\n",
    "40>250\n",
    "250 - so large number is 250 yet printed."
   ]
  },
  {
   "cell_type": "code",
   "execution_count": 33,
   "id": "fb671287",
   "metadata": {},
   "outputs": [
    {
     "name": "stdout",
     "output_type": "stream",
     "text": [
      "The large number in the list is :  250\n"
     ]
    }
   ],
   "source": [
    "#same program using max() built-in function in python.\n",
    "lst_of_numbers = [55,35,95,125,220,180,250,40]\n",
    "#large_number = lst_of_numbers[0]\n",
    "large_number = max(lst_of_numbers)\n",
    "#for num in lst_of_numbers:\n",
    "#   if num > large_number:\n",
    "#        large_number = num\n",
    "        \n",
    "print(f\"The large number in the list is :  {large_number}\")"
   ]
  },
  {
   "cell_type": "code",
   "execution_count": 38,
   "id": "b6e8a2f5",
   "metadata": {},
   "outputs": [
    {
     "name": "stdout",
     "output_type": "stream",
     "text": [
      "Basic salary is : Rs50000.00\n",
      "Bonus percentage is : Rs10.00\n",
      "Total salary is :Rs55000.00\n"
     ]
    }
   ],
   "source": [
    "#No:3 - bonus calculation from salary of Rs50000\n",
    "salary = 50000\n",
    "bonus_prcnt = 10\n",
    "bonus_amt = salary * (bonus_prcnt / 100)\n",
    "total_salary = salary + bonus_amt\n",
    "print(f\"Basic salary is : Rs{salary:.2f}\")\n",
    "print(f\"Bonus percentage is : Rs{bonus_prcnt:.2f}\")\n",
    "print(f\"Total salary is :Rs{total_salary:.2f}\")"
   ]
  },
  {
   "cell_type": "code",
   "execution_count": 42,
   "id": "ea807278",
   "metadata": {},
   "outputs": [
    {
     "name": "stdout",
     "output_type": "stream",
     "text": [
      "Enter the number to find odd or even:99\n",
      "Entered number 99 is odd.\n"
     ]
    }
   ],
   "source": [
    "#No : 4 -Finding odd or even\n",
    "number = int(input(\"Enter the number to find odd or even:\"))\n",
    "if(number%2 == 0):\n",
    "    print(f\"Entered number {number} is even.\")\n",
    "else:\n",
    "    print(f\"Entered number {number} is odd.\")"
   ]
  },
  {
   "cell_type": "code",
   "execution_count": 49,
   "id": "8ece033d",
   "metadata": {},
   "outputs": [
    {
     "name": "stdout",
     "output_type": "stream",
     "text": [
      "HopeAIatcoursedoingHarinarayayan\n",
      "elidocorc\n"
     ]
    }
   ],
   "source": [
    "#No: 5 - Reversing a word or sentence\n",
    "#splits a string and reversed using\n",
    "#[::-1] -used for string reverse\n",
    "#join method joins the string which is reversed.\n",
    "reverse_sen = \"Harinarayanan doing course at HopeAI\"\n",
    "reverse_word = \"crocodile\"\n",
    "reversing_1 = ''.join(reverse_sen.split()[::-1])\n",
    "reversing_2 = reverse_word[::-1]\n",
    "print(reversing_1)\n",
    "print(reversing_2)"
   ]
  },
  {
   "cell_type": "code",
   "execution_count": 47,
   "id": "f84b7564",
   "metadata": {},
   "outputs": [
    {
     "name": "stdout",
     "output_type": "stream",
     "text": [
      "['Harinarayanan', 'doing', 'course', 'at', 'HopeAI']\n"
     ]
    }
   ],
   "source": [
    "#example of how split method splits a string.\n",
    "reverse_sen = \"Harinarayanan doing course at HopeAI\"\n",
    "reversing_1 = reverse_sen.split(\" \")\n",
    "print(reversing_1)"
   ]
  },
  {
   "cell_type": "code",
   "execution_count": 53,
   "id": "39500fc4",
   "metadata": {},
   "outputs": [
    {
     "name": "stdout",
     "output_type": "stream",
     "text": [
      "Enter the student mark:99\n",
      "student passed\n"
     ]
    }
   ],
   "source": [
    "#NO:6 - grading system whether student has passed or failed\n",
    "mark = int(input(\"Enter the student mark:\"))\n",
    "pass_mark = 40\n",
    "if(mark>=pass_mark):\n",
    "    print(\"student passed\")\n",
    "else:\n",
    "    print(\"Student failed\")"
   ]
  },
  {
   "cell_type": "code",
   "execution_count": 55,
   "id": "51c233bb",
   "metadata": {},
   "outputs": [
    {
     "name": "stdout",
     "output_type": "stream",
     "text": [
      "total bill : Rs8000.00\n",
      "Bonus percentage is : Rs20.00\n",
      "total payable amount :Rs6400.00\n"
     ]
    }
   ],
   "source": [
    "#NO:7 - retail store offering 20% discount for customer bill \n",
    "#exceeding 8000.\n",
    "total_bill = 8000\n",
    "bonus_prcnt = 20\n",
    "bonus_onbill_for_purchas_of_8k = (total_bill) * (bonus_prct/100) \n",
    "total_payable_amt = total_bill - bonus_onbill_for_purchas_of_8k\n",
    "print(f\"total bill : Rs{total_bill:.2f}\")\n",
    "print(f\"Bonus percentage is : Rs{bonus_prcnt:.2f}\")\n",
    "print(f\"total payable amount :Rs{total_payable_amt:.2f}\")"
   ]
  },
  {
   "cell_type": "code",
   "execution_count": 78,
   "id": "4c0b6c34",
   "metadata": {},
   "outputs": [
    {
     "name": "stdout",
     "output_type": "stream",
     "text": [
      "Please enter withdrawal amount:0\n",
      "Enter valid amount\n"
     ]
    }
   ],
   "source": [
    "#No:8 - banking system process withdrawal action only if \n",
    "#customer has enough balance.\n",
    "account_bal = 10000\n",
    "account_maintain_bal = 4000\n",
    "allowed_withdrawal = account_bal - account_maintain_bal\n",
    "amount = int(input(\"Please enter withdrawal amount:\"))\n",
    "if (amount>account_bal):\n",
    "    print(\"Amount cannot be processed, Please enter below 10k\")\n",
    "elif(amount>allowed_withdrawal):\n",
    "    print(\"Allowed withdrawal is\",allowed_withdrawal)\n",
    "    print(\"Minimum balance 4k has to be maintained\")\n",
    "elif(amount<=allowed_withdrawal and amount>=1):\n",
    "    print(\"Allowed withdrawal is\",allowed_withdrawal)\n",
    "    print(\"Transaction is in progress, Take the cash\")\n",
    "else:\n",
    "    print(\"Enter valid amount\")"
   ]
  },
  {
   "cell_type": "code",
   "execution_count": null,
   "id": "4507d682",
   "metadata": {},
   "outputs": [],
   "source": []
  }
 ],
 "metadata": {
  "kernelspec": {
   "display_name": "Python 3 (ipykernel)",
   "language": "python",
   "name": "python3"
  },
  "language_info": {
   "codemirror_mode": {
    "name": "ipython",
    "version": 3
   },
   "file_extension": ".py",
   "mimetype": "text/x-python",
   "name": "python",
   "nbconvert_exporter": "python",
   "pygments_lexer": "ipython3",
   "version": "3.9.12"
  }
 },
 "nbformat": 4,
 "nbformat_minor": 5
}
